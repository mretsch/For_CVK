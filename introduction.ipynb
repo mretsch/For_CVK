{
 "cells": [
  {
   "cell_type": "markdown",
   "metadata": {},
   "source": [
    "# Hey! "
   ]
  },
  {
   "cell_type": "markdown",
   "metadata": {},
   "source": [
    "Die nächsten paar Zeilen geben dir einen Eindruck von Python, einer sehr universellen Programmiersprache, welche unter anderem deshalb momentan sehr populär ist. Du kannst mit Python Webseiten bauen, Spiele programmieren, oder einfach Berechnungen durchführen und hübsch darstellen.\n",
    "\n",
    "Ein Grundprinzip von Python ist das Baukastenprinzip. Python selbst ist relative dumm, aber man kann sich 'packages' aus dem Internet laden, welche dann sehr viel (quasi alle) Zusatzfunktionen ermöglichen. Das kannst du vielleicht mit dem iPhone vergleichen. Das iPhone selbst kann eigentlich nur telefonieren und dir die Uhrzeit anzeigen. Alle anderen Funktionen wie Google Maps lädst du dir als App dazu. Und um diese Analogie weiterzuführen, diese Apps heissen 'packages' bei Python, und wenn wir ein Python-Skript schreiben, dann müssen wir diese erstmal 'importieren'. Also nachdem wir sie aus dem Internet auf unseren Computer geladen haben.\n",
    "\n",
    "Lass uns das importieren also gleich als erstes mal machen."
   ]
  },
  {
   "cell_type": "markdown",
   "metadata": {},
   "source": [
    "## Importieren von Packages"
   ]
  },
  {
   "cell_type": "markdown",
   "metadata": {},
   "source": [
    "Eines der nützlichsten und am weitest verbreitesten packages um Berechnungen durchzuführen heisst 'pandas'. Was pandas gut kann, ist mit Tabellen umzugehen. Deine Excel-Tabelle kannst du also mit pandas einlesen und dann weiterverarbeiten. Prinzipiell hört pandas aber bei der Tabelle auf. Für Daten welche nicht in einer Tabelle angeordnet sind, ist pandas nicht mehr so brauchbar. Aber Tabellen decken ja schon mal sehr viel ab. Aber um den Punkt kurz zu Ende zu führen: Eine Tabelle hat zwei Dimensionen, sagen wir mal Beobachtungs-Zeit in den Reihen und in den Spalten verschiedene Beobachtungs-Orte um die Temperatur zu messen. Kommt jetzt eine dritte Dimension hinzu, sagen wir mal die Höhe weil wir die Temperatur in verschiedenen Höhen gleichzeitig messen, dann hätten wir quasi einen Daten-Würfel und keine 'flache' Tabelle mehr. Und für diesen Würfel ist pandas nicht gut geeignet.\n",
    "\n",
    "Um dir eine kleine Vokabel beizubringen: der Überbegriff für solche Tabellen oder Würfel lautet 'array'. Also wenn du von einem array redest, bedeutet das nur das du ein paar Zahlen hast (oder Daten im Allgemeinen), welche in einer oder mehr Dimensionen angeordnet sind. In der Regel haben diese Dimensionen eine Bedeutung für dich, sonst hättest du die Daten ja auch anders anordnen können. \n",
    "\n",
    "Jetzt aber zurück um pandas zu importieren, das sieht so aus:"
   ]
  },
  {
   "cell_type": "code",
   "execution_count": 1,
   "metadata": {},
   "outputs": [],
   "source": [
    "import pandas as pd"
   ]
  },
  {
   "cell_type": "markdown",
   "metadata": {},
   "source": [
    "Wenn wir nun eine Funktion von pandas verwenden wollen, müssen wir immer erstmal angeben, dass die Funktion zu pandas gehört. Das würde dann so aussehen: `pandas.eine_ganz_tolle_funktion()`. Damit hätten wir die Fantasie-Funktion namens 'eine_ganz_tolle_funktion' ausgeführt. Und weil wir nicht immer pandas ausschreiben wollen haben wir pandas unter dem Kürzel `pd` importiert. Damit würde sich der Aufruf der Funktion also verkürzen zu: `pd.eine_ganz_tolle_funktion()`"
   ]
  },
  {
   "cell_type": "markdown",
   "metadata": {},
   "source": [
    "Nun sollten wir uns ein paar Daten besorgen, damit wir was zum herumspielen haben. Also auf gehts!"
   ]
  },
  {
   "cell_type": "markdown",
   "metadata": {},
   "source": [
    "##### Daten, das heisst Zahlen, kreieren oder einlesen"
   ]
  },
  {
   "cell_type": "markdown",
   "metadata": {},
   "source": [
    "In allen Programmiersprachen wirst du sehen dass Gleichheitszeichen ständig vorkommen. Diese Gleichheitszeichen haben aber nichts mit Mathematik oder rechnen zu tun, sondern sind Zuweisungen. Du wählst dir einen Namen für eine Variable aus, sagen wir mal 'a', und weist ihm einen Wert zu. Das sieht so aus: `a=5`. Und lass uns noch eine zweite Variable namen 'b' erstellen, damit wir den Punkt mit Gleichheitszeichen verstehen, also sagen wir mal `a=20`. Lass uns das kurz als Code eingeben:"
   ]
  },
  {
   "cell_type": "code",
   "execution_count": 2,
   "metadata": {},
   "outputs": [],
   "source": [
    "a = 5\n",
    "b = 20"
   ]
  },
  {
   "cell_type": "markdown",
   "metadata": {},
   "source": [
    "Wenn wir nun `a=b` als Code eingeben, könnten wir denken, dass das irgendwie ein Fehler ergeben muss, denn wie bitteschön soll 5 das gleiche wie 20 sein?! Aber, wie gesagt, diese Gleichheitszeichen sind hier keine mathematischen Symbole, sondern dienen als Zuweisung. Und mit `a=b` hast du nun der Variable `a` den Wert zugewiesen den Variables `b` hat, nämlich 20. Lass uns das kurz überprüfen, indem wir den Variablennamen eintippen und der zugewiesen Wert dann automatisch eine Zeile untendrunter ausgespuckt wird:"
   ]
  },
  {
   "cell_type": "code",
   "execution_count": 3,
   "metadata": {},
   "outputs": [
    {
     "data": {
      "text/plain": [
       "5"
      ]
     },
     "execution_count": 3,
     "metadata": {},
     "output_type": "execute_result"
    }
   ],
   "source": [
    "a"
   ]
  },
  {
   "cell_type": "code",
   "execution_count": 4,
   "metadata": {},
   "outputs": [
    {
     "data": {
      "text/plain": [
       "20"
      ]
     },
     "execution_count": 4,
     "metadata": {},
     "output_type": "execute_result"
    }
   ],
   "source": [
    "b"
   ]
  },
  {
   "cell_type": "markdown",
   "metadata": {},
   "source": [
    "Und nun die Zuweisung, dass `a` auch den Wert von `b` erhält:"
   ]
  },
  {
   "cell_type": "code",
   "execution_count": 5,
   "metadata": {},
   "outputs": [],
   "source": [
    "a = b"
   ]
  },
  {
   "cell_type": "markdown",
   "metadata": {},
   "source": [
    "Und nun sollten beide Variable den gleichen Wert besitzen:"
   ]
  },
  {
   "cell_type": "code",
   "execution_count": 6,
   "metadata": {},
   "outputs": [
    {
     "data": {
      "text/plain": [
       "20"
      ]
     },
     "execution_count": 6,
     "metadata": {},
     "output_type": "execute_result"
    }
   ],
   "source": [
    "a"
   ]
  },
  {
   "cell_type": "code",
   "execution_count": 7,
   "metadata": {},
   "outputs": [
    {
     "data": {
      "text/plain": [
       "20"
      ]
     },
     "execution_count": 7,
     "metadata": {},
     "output_type": "execute_result"
    }
   ],
   "source": [
    "b"
   ]
  },
  {
   "cell_type": "markdown",
   "metadata": {},
   "source": [
    "Bingo! Jetzt haben wir also schonmal verstanden was das Gleichheitszeichen bedeutet. Ganz wichtig. Und nun lass uns ein paar mehr Zahlen definieren, und später dann auch von einer Excel-Tabelle einlesen, damit wir dann zum Schluss mittels den pandas damit herumspielen können. "
   ]
  },
  {
   "cell_type": "markdown",
   "metadata": {},
   "source": [
    "##### Ein kleines array selber machen"
   ]
  },
  {
   "cell_type": "markdown",
   "metadata": {},
   "source": [
    "Mittels einer eckiger Klammer `[]` können wir in Python eine sogenannte Liste erzeugen. Nun können wir der Variable `a` also nicht nur eine einzige läppische Zahl zuweisen, sondern ganz viele davon. Also:"
   ]
  },
  {
   "cell_type": "code",
   "execution_count": 8,
   "metadata": {},
   "outputs": [],
   "source": [
    "a = [3, 5, 7, 9]"
   ]
  },
  {
   "cell_type": "code",
   "execution_count": 9,
   "metadata": {},
   "outputs": [
    {
     "data": {
      "text/plain": [
       "[3, 5, 7, 9]"
      ]
     },
     "execution_count": 9,
     "metadata": {},
     "output_type": "execute_result"
    }
   ],
   "source": [
    "a"
   ]
  },
  {
   "cell_type": "markdown",
   "metadata": {},
   "source": [
    "Und wenn wir eine spezielle Zahl aus dieser Liste haben wollen, können wir sie aufrufen indem wir hinter dem Variablen-Namen, also `a`, innerhalb von eckigen Klammern die Stelle angeben, an der diese Zahl in der Liste ihren Platz hat. Also die 3 sitzt an erster Stelle und die 5 an zweiter Stelle. Also lass und das mal tun:"
   ]
  },
  {
   "cell_type": "code",
   "execution_count": 10,
   "metadata": {},
   "outputs": [
    {
     "data": {
      "text/plain": [
       "5"
      ]
     },
     "execution_count": 10,
     "metadata": {},
     "output_type": "execute_result"
    }
   ],
   "source": [
    "a[1]"
   ]
  },
  {
   "cell_type": "markdown",
   "metadata": {},
   "source": [
    "Ups! Sollte an erster Stelle nicht die 3 stehen? Wieso ist da jetzt die 5? Das liegt daran, dass Python, wie ganz viele andere Sprachen auch, Null-basiert ist. Das bedeutet, dass die erste Stelle in einer Liste, oder einem Array, nicht mit 1 angesprochen wird, sondern mit 0. Das Hochzählen beginnt also immer bei Null, nicht Eins. Und tatsächlich:"
   ]
  },
  {
   "cell_type": "code",
   "execution_count": 11,
   "metadata": {},
   "outputs": [
    {
     "data": {
      "text/plain": [
       "3"
      ]
     },
     "execution_count": 11,
     "metadata": {},
     "output_type": "execute_result"
    }
   ],
   "source": [
    "a[0]"
   ]
  },
  {
   "cell_type": "markdown",
   "metadata": {},
   "source": [
    "Und nun lass uns was ganz Verrücktes machen und eigentlich ist das ein rießiger Sprung an dieser Stelle, aber egal. Mittels zwei Listen in einer einzigen Liste und einer Funktion von pandas können wir ein sogenanntes array erstellen (siehe oben, was ein array ist). Da wir eine Panda-Funktion benutzen um das array zu erstellen, ist es streng genommen ein panda-array. Je nachdem welches package wir verwenden, also pandas oder ein anderes (welche ich dir hier aber nicht vorstelle), können diese arrays verschiedene Fähigkeiten haben. Aber arrays sind sie dennoch alle, also eine Anordnung von Zahlen/Daten in einer Tabelle oder noch mehr Dimensionen.\n",
    "Und da sich das Pandas für was ganz Spezielles halten, nennen sie ein panda-array nicht einfach panda-array, sondern 'DataFrame'. Tolles Wort, ist aber nichts anderes als ein Tabelle, welche von Pandas erstellt ist.\n",
    "Nun gut, um ein paar von dir gewählte Zahlen in einem DataFrame abzuspeichern, benötigst du nur ein paar Listen mit Zahlen. Lass uns das kurz mal zu verschiedenen Variablen zuweisen:"
   ]
  },
  {
   "cell_type": "code",
   "execution_count": 12,
   "metadata": {},
   "outputs": [],
   "source": [
    "Erste_Reihe = [100, 200, 400]\n",
    "Zweite_Reihe = [500, 600, 700]\n",
    "Liste_welche_Listen_enthaelt = [Erste_Reihe, Zweite_Reihe]"
   ]
  },
  {
   "cell_type": "markdown",
   "metadata": {},
   "source": [
    "Ein DataFrame ist ja eine Tabelle, also geben wir an welche Zahlen wir in der ersten Reihe der Tabelle haben möchten und welche in der zweiten Reihe der Tabelle. Diese beiden Listen wiederum packen wir in einer anderen Liste zusammen. Diese List enthält also bereits all unsere Zahlen für die Tabelle. Nun müssen wir sie nur noch in einen DataFrame verwandeln. Und das können wir mittels einer Pandas-Funktion namens `DataFrame()`. Und damit die Funktion weiß, welche Daten in einen DataFrame umgewandelt werden sollen, schreiben wir in die runden Klammern `()` unsere Variable mit den ganzen Zahlen rein, also `Liste_welche_Listen_enthaelt`. Dieses Daten, welche an eine Funktion übermittelt werden damit sie macht was wir wollen, werden 'arguments' genannt. Also:"
   ]
  },
  {
   "cell_type": "code",
   "execution_count": 13,
   "metadata": {},
   "outputs": [
    {
     "data": {
      "text/html": [
       "<div>\n",
       "<table border=\"1\" class=\"dataframe\">\n",
       "  <thead>\n",
       "    <tr style=\"text-align: right;\">\n",
       "      <th></th>\n",
       "      <th>0</th>\n",
       "      <th>1</th>\n",
       "      <th>2</th>\n",
       "    </tr>\n",
       "  </thead>\n",
       "  <tbody>\n",
       "    <tr>\n",
       "      <th>0</th>\n",
       "      <td>100</td>\n",
       "      <td>200</td>\n",
       "      <td>400</td>\n",
       "    </tr>\n",
       "    <tr>\n",
       "      <th>1</th>\n",
       "      <td>500</td>\n",
       "      <td>600</td>\n",
       "      <td>700</td>\n",
       "    </tr>\n",
       "  </tbody>\n",
       "</table>\n",
       "</div>"
      ],
      "text/plain": [
       "     0    1    2\n",
       "0  100  200  400\n",
       "1  500  600  700"
      ]
     },
     "execution_count": 13,
     "metadata": {},
     "output_type": "execute_result"
    }
   ],
   "source": [
    "pd.DataFrame(Liste_welche_Listen_enthaelt)"
   ]
  },
  {
   "cell_type": "markdown",
   "metadata": {},
   "source": [
    "Tadaa! Du siehst unsere Zahlen in einer Tabelle angeordnet. Ja, die Spalten-Namen sind richtig langweilig, nämlich Null, Eins, Zwei. Und die Reihen heißen auch super-langweilig Null, Eins. Aber das sind Kleinigkeiten, das könnte man alles per 'arguments' regeln. Geht hier aber viel zu weit, sondern wir wollen erstmal sehen wie das so prinzipiell funktioniert mit Pandas. Und das war ja schonmal erfolgreich! Mehr als die Funktion `DataFrame()` und ein paar Listen mit Zahlen braucht es eigentlich nicht. Sehr schön :) \n",
    "\n",
    "Aber nun hast du deine Zahlen natürlich in einer Excel-Datei, also wie kommen wir da nun ran? Das sehen wir jetzt."
   ]
  },
  {
   "cell_type": "markdown",
   "metadata": {},
   "source": [
    "##### Array von Excel einlesen"
   ]
  },
  {
   "cell_type": "markdown",
   "metadata": {},
   "source": [
    "Um ein Datei im .csv-format einzulesen, gibt es bei pandas eine eigene Funktion. Das .csv steht für comma-separated-values und ist im Prinzip eine Excel-Tabelle (jede Excel-Tabelle lässt sich auch in das csv-format umwandeln).\n",
    "Da wir also nun eine Funktion von pandas anwenden wollen, werden wir wieder das `pd` vor den Funktionsnamen stellen müssen. Und die Daten welche uns die Funktion zurückgeben wird wollen wir einer Variable zuweisen, welche wir `table_data` nennen. Aussagekräftige Variablen-Namen sind super super wichtig, aber oft hält man sich auch nicht daran, weil man einfach schnell was machen möchte. Aber eigentlich sollte man sich daran halten, denn sonst versteht man später den eigenen Code nicht mehr so gut.\n",
    "Aber zurück zu unserer Tabelle, das ganze sieht dann so aus:"
   ]
  },
  {
   "cell_type": "code",
   "execution_count": 14,
   "metadata": {},
   "outputs": [],
   "source": [
    "table_data = pd.read_csv('example.csv', sep=';')"
   ]
  },
  {
   "cell_type": "markdown",
   "metadata": {},
   "source": [
    "Die Funktione, welche wir verwendet haben heißt also `read_csv()` (aussagekräftig, oder?) und innerhalb der beiden runden Klammern `()` müssen wir wieder sogennante 'arguments' angeben, also Parameter damit die Funktion genau weiß was sie machen soll. Zuerst ist natürlich mal der Datei-Name unserer Date wichtig, ich habe sie `example.csv` genannt, und daher ist genau dieser Name das allererste Argument. Und solche Dateinamen müssen oft in Anführungszeichen gesetzt werden. \n",
    "\n",
    "Hier ein kurzer Einschub zu verschiedenen Datenformaten in Programmiersprachen: ganz prinzipiell gibt es zwei Arten von Daten in einer Sprache, Zahlen und Text (es gibt noch mehr, aber ist jetzt mal egal). Eine Zahl, genannt 'integer' oder 'float' im Englischen, ist relative klar und haben wir vorhin mit `a=5` schon kennen gelernt. Und dann gibt es eben noch Text, genannt 'strings', und strings müssen immer in Anführungszeichen gesetzt werden. Es wäre also `a='Ich bin einer toller Text.'`. Mit Zahlen kann man natürlich rechen, mit Text aber nicht. Aber du benötigst natürlich Text um so Dinge wie Dateinamen anzugeben, oder um dem Benutzer von Software irgendetwas mitzuteilen.\n",
    "\n",
    "Zurück zu unserer Funktion, das zweite Argument lautet `sep=';'`. Was ist das? Nun, wir sehen schonmal dass hier ein string, nämlich `';'`, einer variable, nämlich `sep`, zugewiesen wird. Diese Variable ist ein Argument der Funktion `read_csv()` und mittels dieser Variable können wir noch extra Dinge einstellen. In unserem Fall steht das 'sep' für 'separator' und fragt ab, mit welchem Zeichen in unserer Datei die Werte abgespeichert sind. Wir haben eine .csv-Datei, also könnte man meinen das diese Separators Kommas sein sollten. Aber falsch gedacht, in unserem Fall sind es Semikolons, und diese Information geben wir der Variable 'sep' mit auf den Weg. Wären es wirklich Kommas als Separator gewesen, dann hätten wir gar nichts machen müssen, denn davon geht die Funktion `read_csv()` als Voreinstellung aus. Aber wir hatten hier halt eine Extra-Wurst. Unabhängig davon, es gibt noch Dutzende mehr Variablen für die Funktion `read_csv()`. Damit könnten wir noch Dutzende mehr Sachen einstellen, aber wollen wir hier nicht. Um dir eine weitere Vokabel beizubringen, diese Variablen um Funktionen zu steuern, werden 'keywords' genannt. Also `sep` ist ein keyword und `';'` ist ein keyword-argument.\n",
    "\n",
    "Und nun lass uns anschauen, was uns `read_csv()` geliefert hat:"
   ]
  },
  {
   "cell_type": "code",
   "execution_count": 15,
   "metadata": {},
   "outputs": [
    {
     "data": {
      "text/html": [
       "<div>\n",
       "<table border=\"1\" class=\"dataframe\">\n",
       "  <thead>\n",
       "    <tr style=\"text-align: right;\">\n",
       "      <th></th>\n",
       "      <th>Name</th>\n",
       "      <th>Alter</th>\n",
       "      <th>Torschuesse</th>\n",
       "      <th>Eintrittsjahr</th>\n",
       "    </tr>\n",
       "  </thead>\n",
       "  <tbody>\n",
       "    <tr>\n",
       "      <th>0</th>\n",
       "      <td>Franz</td>\n",
       "      <td>40</td>\n",
       "      <td>0</td>\n",
       "      <td>1999</td>\n",
       "    </tr>\n",
       "    <tr>\n",
       "      <th>1</th>\n",
       "      <td>Annette</td>\n",
       "      <td>35</td>\n",
       "      <td>10</td>\n",
       "      <td>2014</td>\n",
       "    </tr>\n",
       "    <tr>\n",
       "      <th>2</th>\n",
       "      <td>Diedrich</td>\n",
       "      <td>35</td>\n",
       "      <td>8</td>\n",
       "      <td>2020</td>\n",
       "    </tr>\n",
       "    <tr>\n",
       "      <th>3</th>\n",
       "      <td>Marlene</td>\n",
       "      <td>20</td>\n",
       "      <td>4</td>\n",
       "      <td>2005</td>\n",
       "    </tr>\n",
       "    <tr>\n",
       "      <th>4</th>\n",
       "      <td>Ursula</td>\n",
       "      <td>40</td>\n",
       "      <td>7</td>\n",
       "      <td>2012</td>\n",
       "    </tr>\n",
       "  </tbody>\n",
       "</table>\n",
       "</div>"
      ],
      "text/plain": [
       "       Name  Alter  Torschuesse  Eintrittssjahr\n",
       "0     Franz     40            0            1999\n",
       "1   Annette     35           10            2014\n",
       "2  Diedrich     35            8            2020\n",
       "3   Marlene     20            4            2005\n",
       "4    Ursula     40            7            2012"
      ]
     },
     "execution_count": 15,
     "metadata": {},
     "output_type": "execute_result"
    }
   ],
   "source": [
    "table_data"
   ]
  }
 ],
 "metadata": {
  "kernelspec": {
   "display_name": "Python 3 (using the module python/3.5.2)",
   "language": "python",
   "name": "python_3.5.2"
  },
  "language_info": {
   "codemirror_mode": {
    "name": "ipython",
    "version": 3
   },
   "file_extension": ".py",
   "mimetype": "text/x-python",
   "name": "python",
   "nbconvert_exporter": "python",
   "pygments_lexer": "ipython3",
   "version": "3.5.2"
  }
 },
 "nbformat": 4,
 "nbformat_minor": 4
}
