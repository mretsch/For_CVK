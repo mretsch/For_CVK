{
 "cells": [
  {
   "cell_type": "markdown",
   "metadata": {},
   "source": [
    "# Hey C! "
   ]
  },
  {
   "cell_type": "markdown",
   "metadata": {},
   "source": [
    "Die nächsten paar Zeilen geben dir einen Eindruck von Pyhton, einer sehr universellen Programmiersprache, welche unter anderem deshalb momentan sehr populär ist. Du kannst mit Python Webseiten bauen, Spiele programmieren, oder einfach Berechnungen durchführen und hübsch darstellen.\n",
    "\n",
    "Ein Grundprinzip von Python ist das Baukastenprinzip. Python selbst ist relative dumm, aber man kann sich 'packages' aus dem Internet laden, welche dann sehr viel (quasi alle) Zusatzfunktionen ermöglichen. Das kannst du vielleicht mit dem iPhone vergleichen. Das iPhone selbst kann eigentlich nur telefonieren und dir die Uhrzeit anzeigen. Alle anderen Funktionen wie Google Maps lädst du dir als App dazu. Und um diese Analogie weiterzuführen, diese Apps heissen 'packages' bei Python, und wenn wir ein Python-Skript schreiben, dann müssen wir diese erstmal 'importieren'. Also nachdem wir sie aus dem Internet auf unseren Computer geladen haben.\n",
    "\n",
    "Lass uns das importieren also gleich als erstes mal machen."
   ]
  },
  {
   "cell_type": "markdown",
   "metadata": {},
   "source": [
    "##### Importieren von Packages"
   ]
  },
  {
   "cell_type": "markdown",
   "metadata": {},
   "source": [
    "Eines der nützlichsten und am weitest verbreitesten packages um Berechnungen durchzuführen heisst 'pandas'. Was pandas gut kann, ist mit Tabellen umzugehen. Deine Excel-Tabelle kannst du also mit pandas einlesen und dann weiterverarbeiten. Prinzipiell hört pandas aber bei der Tabelle auf. Für Daten welche nicht in einer Tabelle angeordnet sind, ist pandas nicht mehr so brauchbar. Aber Tabellen decken ja schon mal sehr viel ab. Aber um den Punkt kurz zu Ende zu führen: Eine Tabelle hat zwei Dimensionen, sagen wir mal Beobachtungs-Zeit in den Reihen und in den Spalten verschiedene Beobachtungs-Orte um die Temperatur zu messen. Kommt jetzt eine dritte Dimension hinzu, sagen wir mal die Höhe weil wir die Temperatur in verschiedenen Höhen gleichzeitig messen, dann hätten wir quasi einen Daten-Würfel und keine 'flache' Tabelle mehr. Und für diesen Würfel ist pandas nicht gut geeignet.\n",
    "\n",
    "Um dir eine kleine Vokabel beizubringen: der Überbegriff für solche Tabellen oder Würfel lautet 'array'. Also wenn du von einem array redest, bedeutet das nur das du ein paar Zahlen hast (oder Daten im Allgemeinen), welche in einer oder mehr Dimensionen angeordnet sind. In der Regel haben diese Dimensionen eine Bedeutung für dich, sonst hättest du die Daten ja auch anders anordnen können. \n",
    "\n",
    "Jetzt aber zurück um pandas zu importieren, das sieht so aus:"
   ]
  },
  {
   "cell_type": "code",
   "execution_count": 1,
   "metadata": {},
   "outputs": [],
   "source": [
    "import pandas as pd"
   ]
  },
  {
   "cell_type": "markdown",
   "metadata": {},
   "source": [
    "Wenn wir nun eine Funktion von pandas verwenden wollen, müssen wir immer erstmal angeben, dass die Funktion zu pandas gehört. Das würde dann so aussehen: `pandas.eine_ganz_tolle_funktion()`. Damit hätten wir die Fantasie-Funktion namens 'eine_ganz_tolle_funktion' ausgeführt. Und weil wir nicht immer pandas ausschreiben wollen haben wir pandas unter dem Kürzel `pd` importiert. Damit würde sich der Aufruf der Funktion also verkürzen zu: `pd.eine_ganz_tolle_funktion()`"
   ]
  },
  {
   "cell_type": "markdown",
   "metadata": {},
   "source": [
    "Nun sollten wir uns ein paar Daten besorgen, damit wir was zum herumspielen haben. Also auf gehts!"
   ]
  },
  {
   "cell_type": "markdown",
   "metadata": {},
   "source": [
    "##### Daten, das heisst Zahlen, kreieren oder einlesen"
   ]
  },
  {
   "cell_type": "markdown",
   "metadata": {},
   "source": [
    "In allen Programmiersprachen wirst du sehen dass Gleichheitszeichen ständig vorkommen. Diese Gleichheitszeichen haben aber nichts mit Mathematik oder rechnen zu tun, sondern sind Zuweisungen. Du wählst dir einen Namen für eine Variable aus, sagen wir mal 'a', und weist ihm einen Wert zu. Das sieht so aus: `a=5`. Und lass uns noch eine zweite Variable namen 'b' erstellen, damit wir den Punkt mit Gleichheitszeichen verstehen, also sagen wir mal `a=20`. Lass uns das kurz als Code eingeben:"
   ]
  },
  {
   "cell_type": "code",
   "execution_count": 7,
   "metadata": {},
   "outputs": [],
   "source": [
    "a = 5\n",
    "b = 20"
   ]
  },
  {
   "cell_type": "markdown",
   "metadata": {},
   "source": [
    "Wenn wir nun `a=b` als Code eingeben, könnten wir denken, dass das irgendwie ein Fehler ergeben muss, denn wie bitteschön soll 5 das gleiche wie 20 sein?! Aber, wie gesagt, diese Gleichheitszeichen sind hier keine mathematischen Symbole, sondern dienen als Zuweisung. Und mit `a=b` hast du nun der Variable `a` den Wert zugewiesen den Variables `b` hat, nämlich 20. Lass uns das kurz überprüfen, indem wir den Variablennamen eintippen und der zugewiesen Wert dann automatisch eine Zeile untendrunter ausgespuckt wird:"
   ]
  },
  {
   "cell_type": "code",
   "execution_count": 10,
   "metadata": {},
   "outputs": [
    {
     "data": {
      "text/plain": [
       "5"
      ]
     },
     "execution_count": 10,
     "metadata": {},
     "output_type": "execute_result"
    }
   ],
   "source": [
    "a"
   ]
  },
  {
   "cell_type": "code",
   "execution_count": 11,
   "metadata": {},
   "outputs": [
    {
     "data": {
      "text/plain": [
       "20"
      ]
     },
     "execution_count": 11,
     "metadata": {},
     "output_type": "execute_result"
    }
   ],
   "source": [
    "b"
   ]
  },
  {
   "cell_type": "markdown",
   "metadata": {},
   "source": [
    "Und nun die Zuweisung, dass `a` auch den Wert von `b` erhält:"
   ]
  },
  {
   "cell_type": "code",
   "execution_count": 12,
   "metadata": {},
   "outputs": [],
   "source": [
    "a = b"
   ]
  },
  {
   "cell_type": "markdown",
   "metadata": {},
   "source": [
    "Und nun sollten beide Variable den gleichen Wert besitzen:"
   ]
  },
  {
   "cell_type": "code",
   "execution_count": 16,
   "metadata": {},
   "outputs": [
    {
     "data": {
      "text/plain": [
       "20"
      ]
     },
     "execution_count": 16,
     "metadata": {},
     "output_type": "execute_result"
    }
   ],
   "source": [
    "a"
   ]
  },
  {
   "cell_type": "code",
   "execution_count": 17,
   "metadata": {},
   "outputs": [
    {
     "data": {
      "text/plain": [
       "20"
      ]
     },
     "execution_count": 17,
     "metadata": {},
     "output_type": "execute_result"
    }
   ],
   "source": [
    "b"
   ]
  },
  {
   "cell_type": "markdown",
   "metadata": {},
   "source": [
    "Bingo! Jetzt haben wir also schonmal verstanden was das Gleichheitszeichen bedeutet. Ganz wichtig. Und nun lass uns ein paar mehr Zahlen definieren, und später dann auch von einer Excel-Tabelle einlesen, damit wir dann zum Schluss mittels den pandas damit herumspielen können. "
   ]
  },
  {
   "cell_type": "markdown",
   "metadata": {},
   "source": [
    "##### Ein kleines array selber machen"
   ]
  },
  {
   "cell_type": "markdown",
   "metadata": {},
   "source": [
    "##### Array von Excel einlesen"
   ]
  },
  {
   "cell_type": "code",
   "execution_count": null,
   "metadata": {},
   "outputs": [],
   "source": []
  }
 ],
 "metadata": {
  "kernelspec": {
   "display_name": "Python 3 (using the module python/3.5.2)",
   "language": "python",
   "name": "python_3.5.2"
  },
  "language_info": {
   "codemirror_mode": {
    "name": "ipython",
    "version": 3
   },
   "file_extension": ".py",
   "mimetype": "text/x-python",
   "name": "python",
   "nbconvert_exporter": "python",
   "pygments_lexer": "ipython3",
   "version": "3.5.2"
  }
 },
 "nbformat": 4,
 "nbformat_minor": 4
}
